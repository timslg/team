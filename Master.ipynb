{
  "cells": [
    {
      "cell_type": "code",
      "source": [
        "print('test')"
      ],
      "metadata": {
        "id": "gPYlEb6Pbgcx",
        "outputId": "c61a9b1d-9b7a-4269-9317-e15c4ad3d23a",
        "colab": {
          "base_uri": "https://localhost:8080/"
        }
      },
      "id": "gPYlEb6Pbgcx",
      "execution_count": 2,
      "outputs": [
        {
          "output_type": "stream",
          "name": "stdout",
          "text": [
            "test\n"
          ]
        }
      ]
    }
  ],
  "metadata": {
    "colab": {
      "provenance": []
    },
    "language_info": {
      "name": "python"
    },
    "kernelspec": {
      "name": "python3",
      "display_name": "Python 3"
    },
    "gpuClass": "standard"
  },
  "nbformat": 4,
  "nbformat_minor": 5
}